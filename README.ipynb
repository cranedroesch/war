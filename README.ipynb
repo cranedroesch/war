{
 "cells": [
  {
   "cell_type": "markdown",
   "id": "6b5b1843",
   "metadata": {},
   "source": [
    "# WAR!\n",
    "\n",
    "This is my son Oscar.  He is 5.  \n",
    "\n",
    "<img style=\"max-width: 200px; height: auto; \" src=\"oscar.jpg\"/>\n",
    "\n",
    "He recently learned how to play [war](https://en.wikipedia.org/wiki/War_(card_game)).  \n",
    "\n",
    "The game is *not quite* deterministic, and actually *not quite* a game.  It's not really a game because it involves no choice on the part of the players, and it's not really deterministic, because the ordering of the winners cards, added to the bottom of their pile, is not determined by any rule.  \n",
    "\n",
    "Naturally I became curious what the game's turn count distribution would look like.  You gotta figure that it's possible -- though very unlikely -- that it could resolve in a single turn:  one huge chain war.  It also seems plausible that it could go on infinitely; there would have to exist some combination of the initial ordering and orderings of all the win pots such that no player's pile ever goes all the way down to zero.  In practical terms, there's probably a very long right tail.\n",
    "\n",
    "So let's see.  I'm going to import the class `War` from [war.py](https://github.com/cranedroesch/war/blob/main/war.py) -- which I wrote on an Amtrak train while Oscar played war with his mother -- and use it to simulate lots of games.  I'll then count their turn distribution, and see whether it corresponds with any known, stardard count distributions, like poisson or negative binomial or something.  I doubt it, but let's see."
   ]
  },
  {
   "cell_type": "code",
   "execution_count": 3,
   "id": "02da5554",
   "metadata": {},
   "outputs": [
    {
     "ename": "ModuleNotFoundError",
     "evalue": "No module named 'war'",
     "output_type": "error",
     "traceback": [
      "\u001b[0;31m---------------------------------------------------------------------------\u001b[0m",
      "\u001b[0;31mModuleNotFoundError\u001b[0m                       Traceback (most recent call last)",
      "\u001b[0;32m<ipython-input-3-fdf399467bcd>\u001b[0m in \u001b[0;36m<module>\u001b[0;34m\u001b[0m\n\u001b[0;32m----> 1\u001b[0;31m \u001b[0;32mfrom\u001b[0m \u001b[0mwar\u001b[0m \u001b[0;32mimport\u001b[0m \u001b[0mWar\u001b[0m\u001b[0;34m\u001b[0m\u001b[0;34m\u001b[0m\u001b[0m\n\u001b[0m",
      "\u001b[0;31mModuleNotFoundError\u001b[0m: No module named 'war'"
     ]
    }
   ],
   "source": [
    "from war import War"
   ]
  },
  {
   "cell_type": "code",
   "execution_count": 4,
   "id": "12dc0c64",
   "metadata": {},
   "outputs": [
    {
     "data": {
      "text/plain": [
       "'/Users/crandrew/projects/war'"
      ]
     },
     "execution_count": 4,
     "metadata": {},
     "output_type": "execute_result"
    }
   ],
   "source": [
    "pwd"
   ]
  },
  {
   "cell_type": "code",
   "execution_count": null,
   "id": "c2d88a05",
   "metadata": {},
   "outputs": [],
   "source": []
  },
  {
   "cell_type": "code",
   "execution_count": null,
   "id": "71ae8a87",
   "metadata": {},
   "outputs": [],
   "source": []
  },
  {
   "cell_type": "code",
   "execution_count": 2,
   "id": "63d2eecb",
   "metadata": {},
   "outputs": [
    {
     "name": "stdout",
     "output_type": "stream",
     "text": [
      "[NbConvertApp] Converting notebook README.ipynb to markdown\n",
      "[NbConvertApp] Writing 392 bytes to README.md\n"
     ]
    }
   ],
   "source": [
    "! jupyter nbconvert --to markdown README.ipynb"
   ]
  },
  {
   "cell_type": "code",
   "execution_count": null,
   "id": "08750f2d",
   "metadata": {},
   "outputs": [],
   "source": []
  }
 ],
 "metadata": {
  "kernelspec": {
   "display_name": "Python 3",
   "language": "python",
   "name": "python3"
  },
  "language_info": {
   "codemirror_mode": {
    "name": "ipython",
    "version": 3
   },
   "file_extension": ".py",
   "mimetype": "text/x-python",
   "name": "python",
   "nbconvert_exporter": "python",
   "pygments_lexer": "ipython3",
   "version": "3.9.5"
  }
 },
 "nbformat": 4,
 "nbformat_minor": 5
}
