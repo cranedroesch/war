{
 "cells": [
  {
   "cell_type": "markdown",
   "id": "6b5b1843",
   "metadata": {},
   "source": [
    "# WAR!\n",
    "\n",
    "This is my son Oscar.  He is 5.  \n",
    "\n",
    "<img style=\"max-width: 300px; height: auto; \" src=\"oscar.jpg\"/>\n",
    "\n",
    "He recently learned how to play [war](https://en.wikipedia.org/wiki/War_(card_game)).  "
   ]
  },
  {
   "cell_type": "code",
   "execution_count": 1,
   "id": "63d2eecb",
   "metadata": {},
   "outputs": [
    {
     "name": "stdout",
     "output_type": "stream",
     "text": [
      "[NbConvertApp] Converting notebook README.ipynb to markdown\n",
      "[NbConvertApp] Writing 195 bytes to README.md\n"
     ]
    }
   ],
   "source": [
    "! jupyter nbconvert --to markdown README.ipynb"
   ]
  },
  {
   "cell_type": "code",
   "execution_count": null,
   "id": "96ed57f2",
   "metadata": {},
   "outputs": [],
   "source": []
  }
 ],
 "metadata": {
  "kernelspec": {
   "display_name": "Python 3",
   "language": "python",
   "name": "python3"
  },
  "language_info": {
   "codemirror_mode": {
    "name": "ipython",
    "version": 3
   },
   "file_extension": ".py",
   "mimetype": "text/x-python",
   "name": "python",
   "nbconvert_exporter": "python",
   "pygments_lexer": "ipython3",
   "version": "3.9.5"
  }
 },
 "nbformat": 4,
 "nbformat_minor": 5
}
